{
 "cells": [
  {
   "cell_type": "markdown",
   "id": "c7082976",
   "metadata": {},
   "source": [
    "# Sheela Davi Malhi(Assignment) \n",
    "## Jawan Pakistan\n",
    "### Data Science Course\n",
    "#### Assignment # 1\n"
   ]
  },
  {
   "cell_type": "markdown",
   "id": "1157ffac",
   "metadata": {},
   "source": [
    "##### Qno:1"
   ]
  },
  {
   "cell_type": "code",
   "execution_count": 39,
   "id": "642408d4",
   "metadata": {},
   "outputs": [
    {
     "name": "stdout",
     "output_type": "stream",
     "text": [
      "Twinkle,twinkle, little star,\n",
      "\t How I wonder what you are!\n",
      "\t\tUp above the world so high,\n",
      "\t\tLike a diamond in the sky.\n",
      "Twinkle,twinkle, little star,\n",
      "\tHow I wonder what you are!\n"
     ]
    }
   ],
   "source": [
    "print(\"Twinkle,twinkle, little star,\")\n",
    "print(\"\\t How I wonder what you are!\")\n",
    "print(\"\\t\\tUp above the world so high,\")\n",
    "print(\"\\t\\tLike a diamond in the sky.\")\n",
    "print(\"Twinkle,twinkle, little star,\")\n",
    "print(\"\\tHow I wonder what you are!\")"
   ]
  },
  {
   "cell_type": "markdown",
   "id": "263dd432",
   "metadata": {},
   "source": [
    "##### Qno:2"
   ]
  },
  {
   "cell_type": "code",
   "execution_count": 36,
   "id": "0205c255",
   "metadata": {},
   "outputs": [
    {
     "name": "stdout",
     "output_type": "stream",
     "text": [
      "Python 3.8.8\n"
     ]
    }
   ],
   "source": [
    "!python -V"
   ]
  },
  {
   "cell_type": "markdown",
   "id": "27365e99",
   "metadata": {},
   "source": [
    "##### Qno:3"
   ]
  },
  {
   "cell_type": "code",
   "execution_count": 30,
   "id": "c813c774",
   "metadata": {},
   "outputs": [
    {
     "name": "stdout",
     "output_type": "stream",
     "text": [
      "Current date and time : \n",
      "2022-01-09 22:36:03\n"
     ]
    }
   ],
   "source": [
    "import datetime\n",
    "now = datetime.datetime.now()\n",
    "print (\"Current date and time : \")\n",
    "print (now.strftime(\"%Y-%m-%d %H:%M:%S\"))"
   ]
  },
  {
   "cell_type": "markdown",
   "id": "6cbdc6b4",
   "metadata": {},
   "source": [
    "##### Qno:4"
   ]
  },
  {
   "cell_type": "code",
   "execution_count": 47,
   "id": "d356cb15",
   "metadata": {},
   "outputs": [
    {
     "name": "stdout",
     "output_type": "stream",
     "text": [
      "Enter Radius of circle:4\n",
      "Area of circle is  50.24\n"
     ]
    }
   ],
   "source": [
    "radius=int(input(\"Enter Radius of circle:\"))\n",
    "pi=3.14\n",
    "area=pi*radius**2\n",
    "print(\"Area of circle is \",area)"
   ]
  },
  {
   "cell_type": "markdown",
   "id": "d3d4684b",
   "metadata": {},
   "source": [
    "##### Qno:5"
   ]
  },
  {
   "cell_type": "code",
   "execution_count": 6,
   "id": "16c79a5a",
   "metadata": {},
   "outputs": [
    {
     "name": "stdout",
     "output_type": "stream",
     "text": [
      "Enter your First Name:Sheela\n",
      "Enter your Last Name:Davi\n",
      "aleehS ivaD\n"
     ]
    }
   ],
   "source": [
    "def my_name(x):\n",
    "    return x[::-1]\n",
    "first=input(\"Enter your First Name:\")\n",
    "last=input(\"Enter your Last Name:\")\n",
    "\n",
    "firstname = my_name(first)\n",
    "lastname = my_name(last)\n",
    "print(firstname,lastname)\n"
   ]
  },
  {
   "cell_type": "markdown",
   "id": "3f8f0a9d",
   "metadata": {},
   "source": [
    "##### Qno:6"
   ]
  },
  {
   "cell_type": "code",
   "execution_count": 2,
   "id": "db4fd435",
   "metadata": {},
   "outputs": [
    {
     "name": "stdout",
     "output_type": "stream",
     "text": [
      "Enter 1st number:12\n",
      "Enter 2nd number:43\n",
      "Additon of 12 and 43 is 55\n"
     ]
    }
   ],
   "source": [
    "num1= int(input(\"Enter 1st number:\"))\n",
    "num2= int(input(\"Enter 2nd number:\"))\n",
    "sum=num1+num2\n",
    "print(\"Additon of\",num1,\"and\",num2,\"is\",sum)"
   ]
  },
  {
   "cell_type": "markdown",
   "id": "a91972f2",
   "metadata": {},
   "source": [
    "# The End"
   ]
  }
 ],
 "metadata": {
  "kernelspec": {
   "display_name": "Python 3",
   "language": "python",
   "name": "python3"
  },
  "language_info": {
   "codemirror_mode": {
    "name": "ipython",
    "version": 3
   },
   "file_extension": ".py",
   "mimetype": "text/x-python",
   "name": "python",
   "nbconvert_exporter": "python",
   "pygments_lexer": "ipython3",
   "version": "3.8.8"
  }
 },
 "nbformat": 4,
 "nbformat_minor": 5
}
